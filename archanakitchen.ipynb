{
 "cells": [
  {
   "cell_type": "code",
   "execution_count": 2,
   "metadata": {},
   "outputs": [],
   "source": [
    "from selenium import webdriver\n",
    "from selenium.webdriver.common.by import By\n",
    "from selenium.webdriver.support.ui import WebDriverWait\n",
    "from selenium.webdriver.support import expected_conditions as EC\n",
    "from selenium.webdriver.common.keys import Keys\n",
    "import time\n",
    "import os\n",
    "import wget\n",
    "\n",
    "# Set the path to your webdriver executable (e.g., Chrome or Edge)\n",
    "driver = webdriver.Edge()\n",
    "# Load the webpage\n",
    "driver.get('https://www.archanaskitchen.com/')  # Replace 'your_webpage_url' with the actual URL\n",
    "# Maximize the browser window\n",
    "driver.maximize_window()\n",
    "wait = WebDriverWait(driver, 10)"
   ]
  },
  {
   "cell_type": "code",
   "execution_count": 39,
   "metadata": {},
   "outputs": [],
   "source": [
    "# Find all \"a\" elements within \"li\" elements with the class 'page-item'\n",
    "buttons = driver.find_elements(By.XPATH, \"//li[contains(@class, 'page-item')]//a\")\n",
    "next_button = next(button for button in buttons if button.text == \"Next\")\n",
    "next_button.click()"
   ]
  },
  {
   "cell_type": "code",
   "execution_count": null,
   "metadata": {},
   "outputs": [],
   "source": [
    "# Create a list to store the extracted data\n",
    "data = []"
   ]
  },
  {
   "cell_type": "code",
   "execution_count": 18,
   "metadata": {},
   "outputs": [
    {
     "name": "stdout",
     "output_type": "stream",
     "text": [
      "Food Items on page 1: 24\n",
      "[['Sichuan Eggplant in Spicy Chilli Garlic Sauce Recipe', 'Archana Doshi', 'https://www.archanaskitchen.com/imgcache/images/archanaskitchen/0-Archanas-Kitchen-Recipes/2023/Sichuan_Eggplant_-facebook_400x320.jpg', 'https://www.archanaskitchen.com/chinese-eggplant-in-spicy-chilli-garlic-sauce'], [\"Sichuan Peanut Noodles Made Using Archana's Kitchen Millet Hakka Noodles\", 'Archana Doshi', 'https://www.archanaskitchen.com/imgcache/images/archanaskitchen/0-Archanas-Kitchen-Recipes/2023/Archana_Kitchen_Veg_Millet_Hakka_Noodles_In_Spicy_Peanut_Sauce-6_400x320.jpg', 'https://www.archanaskitchen.com/sichuan-peanut-noodles-made-using-archana-s-kitchen-millet-hakka-noodles'], ['Boondi Ki Kheer Recipe', \"Archana's Kitchen\", 'https://www.archanaskitchen.com/imgcache/images/archanaskitchen/1-Author/Donna_George/Boondi_Ka_Kheer_Recipe-3_400x320.jpg', 'https://www.archanaskitchen.com/boondi-ki-kheer-recipe'], ['no-title', 'Sandhya Gopalakrishna', 'no-image', 'no-url'], ['Hyderabadi Shahi Mixed Vegetable Curry Recipe', 'Lubna Karim', 'https://www.archanaskitchen.com/imgcache/images/archanaskitchen/1-Author/Lubna_Karim/Hyderababi_Shahi_Mixed_Vegetable_Curry_400x320.jpg', 'https://www.archanaskitchen.com/hyderabadi-shahi-mixed-vegetable-curry-recipe'], ['Broccoli Orange Asian Salad Recipe', 'Gauravi Vinay', 'https://www.archanaskitchen.com/imgcache/images/archanaskitchen/1-Author/Gauravi_Vinay/Broccoliorange_Asian_salad_400x320.jpg', 'https://www.archanaskitchen.com/broccoli-orange-asian-salad-recipe'], ['Kaju Butter Masala Recipe', 'Nithya Anantham', 'https://www.archanaskitchen.com/imgcache/images/archanaskitchen/1-Author/nithya.anantham/Kaju_Butter_Masala_400x320.jpg', 'https://www.archanaskitchen.com/kaju-butter-masala-recipe'], ['Shahi Tukda Gajar Halwa Shots With Rabri Recipe', \"Archana's Kitchen\", 'https://www.archanaskitchen.com/imgcache/images/Gajar_Halwa_Shots_With_Rabri_Recipe_Shahi_Tukda-3_1_400x320.jpg', 'https://www.archanaskitchen.com/shahi-tukda-gajar-halwa-shots-with-rabri-recipe'], ['no-title', 'Sneha Chhabria', 'no-image', 'no-url'], ['Hyderabadi Khadi Masoor Dal Recipe - Hyderabadi Style Lentil Curry', \"Archana's Kitchen\", 'https://www.archanaskitchen.com/imgcache/images/archanaskitchen/Indian_Dal_Khadi_Curry/Hyderabadi_Khadi_Masoor_Ki_Dal_Recipe_1_400x320.jpg', 'https://www.archanaskitchen.com/hyderabadi-khadi-masoor-ki-dal-hyderabadi-style-lentil-curry'], ['Sichuan Style Zhong Shui Jiao Recipe (Caramelized Onion, Cabbage And Peas Dumplings in Red Oil Recipe)', \"Archana's Kitchen\", 'https://www.archanaskitchen.com/imgcache/images/archanaskitchen/0-Archanas-Kitchen-Recipes/2016/oct-20/Sichuan_Zhong_Shui_Jiao_Recipe_Cabbage_And_Roasted_Onion_Dumplings_in_Red_Oil_Recipe-1_400x320.jpg', 'https://www.archanaskitchen.com/sichuan-style-zhong-shui-jiao-recipe-caramelized-onion-cabbage-and-peas-dumplings-in-red-oil-recipe'], ['Mixed Vegetable Sagu Recipe - Karnataka Style Vegetable Kurma Recipe', \"Archana's Kitchen\", 'https://www.archanaskitchen.com/imgcache/images/archanaskitchen/1-Author/sibyl_sunitha/Mixed_Vegetable_Saagu_Recipe_Karnataka_Style_Mixed_Vegetable_Kurma-6_400x320.jpg', 'https://www.archanaskitchen.com/karnataka-style-mixed-vegetable-saagu-recipe-spicy-vegetable-coconut-gravy-recipe'], ['Rose Flavoured Shahi Tukda Recipe', \"Archana's Kitchen\", 'https://www.archanaskitchen.com/imgcache/images/archanaskitchen/1-Author/garimasgautam-gmail.com/Rose_Shahi_Tukda_Recipe-2_400x320.jpg', 'https://www.archanaskitchen.com/rose-flavoured-shahi-tukda-recipe'], ['no-title', 'Malvika Hada', 'no-image', 'no-url'], ['Punjabi Kadhi Pakora Recipe', 'Archana Doshi', 'https://www.archanaskitchen.com/imgcache/images/archanaskitchen/0-Archanas-Kitchen-Recipes/2018/jan-5/Punjabi_Kadhi_Pakora_Recipe-0803_400x320.jpg', 'https://www.archanaskitchen.com/best-punjabi-kadhi-pakora-spicy-yogurt-curry-with-spinach-dumplings'], ['Healthy Waffles with Greek Yogurt, Figs and Sweet Dukkah Recipe', 'Gauravi Vinay', 'https://www.archanaskitchen.com/imgcache/images/archanaskitchen/1-Author/Gauravi_Vinay/Healthy_waffles_with_greek_yogurt_figs_and_sweet_Dukkah_400x320.jpg', 'https://www.archanaskitchen.com/healthy-waffles-with-greek-yogurt-figs-and-sweet-dukkah'], ['Karwar NKGSB style Vataane Ananasaa Shaak Recipe- Pineapple & Whites Peas Sabzi', 'Pooja Pandit', 'https://www.archanaskitchen.com/imgcache/images/archanaskitchen/1-Author/panditp253-gmail.com/Vataane_Ananasaa_Shaak_400x320.jpg', 'https://www.archanaskitchen.com/vataane-ananasaa-shaak'], ['Gulab Jamun Trifle Recipe', 'Swathy Nandhini', 'https://www.archanaskitchen.com/imgcache/images/archanaskitchen/1-Author/swathynandhini/GULAB_JAMUN_TRIFLE_400x320.jpg', 'https://www.archanaskitchen.com/gulab-jamun-trifle-recipe'], ['no-title', 'Malvika Hada', 'no-image', 'no-url'], ['Muttai Parotta Recipe ( Ande Ka Paratha / Egg Filled Flat Bread)', 'Archana Doshi', 'https://www.archanaskitchen.com/imgcache/images/archanaskitchen/Indian_Breads/Muttai_Parotta_Anda_Paratha_Recipe-3_400x320.jpg', 'https://www.archanaskitchen.com/muttai-parotta-recipe-ande-ka-paratha-egg-filled-flat-bread'], ['Pissaladiere Recipe - Provencal Onion Tart Recipe', \"Archana's Kitchen\", 'https://www.archanaskitchen.com/imgcache/images/archanaskitchen/World_Appetizers/Pissaladiere_Recipe_Provencal_Onion_Tart_Recipe-1_400x320.jpg', 'https://www.archanaskitchen.com/pissaladiere-recipe-provencal-onion-tart-recipe'], ['Goan Style Mushroom Vindaloo Recipe', \"Archana's Kitchen\", 'https://www.archanaskitchen.com/imgcache/images/archanaskitchen/0-Archanas-Kitchen-Recipes/2016/sept-26/Goan_Style_Mushroom_Vindaloo_Recipe-1_400x320.jpg', 'https://www.archanaskitchen.com/goan-style-mushroom-vindaloo-recipe'], ['Kashmiri Monj Haakh Recipe - Knol Khol Flavored With Asafoetida', 'Shaheen Ali', 'https://www.archanaskitchen.com/imgcache/images/archanaskitchen/1-Author/Shaheen_Ali/MUNJ_HAAKH__KNOL_KHOL_FLAVORED_WITH_ASAFOETIDA_KASHMIRI_VEG_400x320.jpg', 'https://www.archanaskitchen.com/kashmiri-munj-haakh-recipe-knol-khol-flavored-with-asafoetida'], ['Alugadde Batani Gasi Recipe - Potatoes And Peas Gassi', \"Archana's Kitchen\", 'https://www.archanaskitchen.com/imgcache/images/archanaskitchen/1-Author/nithya.anantham/Alugadde_Batani_Gasi_Recipe_Potatoes_And_Peas_Gassi_2_400x320.jpg', 'https://www.archanaskitchen.com/batani-gassi-recipe-udupi-style-potatoes-and-peas-curry']]\n"
     ]
    }
   ],
   "source": [
    "def loadDataOnEachPage():\n",
    "    # Find all elements with the specified structure\n",
    "    elements = driver.find_elements(By.XPATH, \"//div[@class='ak_frontpage_item mb-2 col-md-3']\")\n",
    "    print(\"Food Items on page 1:\", len(elements))\n",
    "\n",
    "    # Loop through the found elements and extract the desired information\n",
    "    for element in elements:\n",
    "        # Extract the image URL\n",
    "        try:\n",
    "            image_element = element.find_element(By.XPATH, \".//div[@class='recipe-image']//img\")\n",
    "            image_url = image_element.get_attribute(\"src\") \n",
    "        except Exception:\n",
    "            image_url = \"no-image\"\n",
    "        # Extract the food title\n",
    "        try:\n",
    "            food_title_element = element.find_element(By.XPATH, \".//a[@class='recipe-title']//span[@itemprop='name']\")\n",
    "            food_title = food_title_element.text\n",
    "        except Exception:\n",
    "            food_title = \"no-title\"\n",
    "        # Extract the author name\n",
    "        try:\n",
    "            author_element = element.find_element(By.XPATH, \".//span[@itemprop='author']\")\n",
    "            author_name = author_element.text\n",
    "        except Exception:\n",
    "            author_name = \"no-author\"\n",
    "        # Extract the URL\n",
    "        try:\n",
    "            url_element = element.find_element(By.XPATH, \".//a[@class='recipe-title']\")\n",
    "            recipe_url = url_element.get_attribute(\"href\")\n",
    "        except Exception:\n",
    "            recipe_url = \"no-url\"\n",
    "        # Print the extracted information\n",
    "        # Append the data to the list\n",
    "        data.append([food_title, author_name, image_url, recipe_url])"
   ]
  },
  {
   "cell_type": "code",
   "execution_count": null,
   "metadata": {},
   "outputs": [],
   "source": [
    "while True:\n",
    "    # Extract data from the current page\n",
    "    loadDataOnEachPage()\n",
    "\n",
    "    # Find and click the button with text \"Next\" if it exists\n",
    "    next_button = next(\n",
    "        (button for button in driver.find_elements(By.XPATH, \"//li[contains(@class, 'page-item')]//a\") if button.text == \"Next\"),\n",
    "        None\n",
    "    )\n",
    "\n",
    "    if next_button:\n",
    "        next_button.click()\n",
    "    else:\n",
    "        break\n"
   ]
  },
  {
   "cell_type": "code",
   "execution_count": 20,
   "metadata": {},
   "outputs": [
    {
     "name": "stdout",
     "output_type": "stream",
     "text": [
      "Data saved to food_data.csv\n"
     ]
    }
   ],
   "source": [
    "import csv\n",
    "def saveDataInCSV():\n",
    "    # Save the data to a CSV file\n",
    "    csv_filename = \"food_data.csv\"\n",
    "\n",
    "    with open(csv_filename, \"w\", newline=\"\") as csvfile:\n",
    "        csv_writer = csv.writer(csvfile)\n",
    "        \n",
    "        # Write the header row\n",
    "        csv_writer.writerow([\"Food Title\", \"Author Name\", \"Image URL\", \"Recipe URL\"])\n",
    "        \n",
    "        # Write the data rows\n",
    "        csv_writer.writerows(data)\n",
    "\n",
    "    print(f\"Data saved to {csv_filename}\")"
   ]
  }
 ],
 "metadata": {
  "kernelspec": {
   "display_name": "Python 3",
   "language": "python",
   "name": "python3"
  },
  "language_info": {
   "codemirror_mode": {
    "name": "ipython",
    "version": 3
   },
   "file_extension": ".py",
   "mimetype": "text/x-python",
   "name": "python",
   "nbconvert_exporter": "python",
   "pygments_lexer": "ipython3",
   "version": "3.10.12"
  }
 },
 "nbformat": 4,
 "nbformat_minor": 2
}
